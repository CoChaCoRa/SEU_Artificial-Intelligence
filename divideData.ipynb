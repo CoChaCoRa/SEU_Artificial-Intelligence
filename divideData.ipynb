{
 "cells": [
  {
   "cell_type": "code",
   "execution_count": 16,
   "metadata": {},
   "outputs": [],
   "source": [
    "import os\n",
    "from os.path import join as pjoin\n",
    "from scipy import misc\n",
    "from PIL import Image\n",
    "img_dir = '/Users/charles/Study/SEU/人工智能/Assignment#1/faces_4_pose'\n",
    "def load_data(data_dir):  # data_dir是数据集路径\n",
    "    count = 0\n",
    "    for guy in os.listdir(data_dir):  \n",
    "        person_dir = pjoin(data_dir, guy)  # 文件夹的路径\n",
    "        if os.path.isdir(person_dir):\n",
    "            for i in os.listdir(person_dir):\n",
    "                image_dir = pjoin(person_dir, i)  # lfw中每个文件夹中图片的路径\n",
    "                im = Image.open(image_dir)\n",
    "                \n",
    "                if 'left' in image_dir:\n",
    "                    save_dir = pjoin(img_dir, 'left')\n",
    "                    im.save(pjoin(save_dir, i)) \n",
    "                if 'right' in image_dir:\n",
    "                    save_dir = pjoin(img_dir, 'right')\n",
    "                    im.save(pjoin(save_dir, i))\n",
    "                if 'straight' in image_dir:\n",
    "                    save_dir = pjoin(img_dir, 'straight')\n",
    "                    im.save(pjoin(save_dir, i))\n",
    "                if 'up' in image_dir:\n",
    "                    save_dir = pjoin(img_dir, 'up')\n",
    "                    im.save(pjoin(save_dir, i))\n",
    "                \n",
    "            print(person_dir)"
   ]
  },
  {
   "cell_type": "code",
   "execution_count": 17,
   "metadata": {},
   "outputs": [
    {
     "name": "stdout",
     "output_type": "stream",
     "text": [
      "/Users/charles/Study/SEU/人工智能/Assignment#1/faces_4/glickman\n",
      "/Users/charles/Study/SEU/人工智能/Assignment#1/faces_4/karyadi\n",
      "/Users/charles/Study/SEU/人工智能/Assignment#1/faces_4/danieln\n",
      "/Users/charles/Study/SEU/人工智能/Assignment#1/faces_4/saavik\n",
      "/Users/charles/Study/SEU/人工智能/Assignment#1/faces_4/mitchell\n",
      "/Users/charles/Study/SEU/人工智能/Assignment#1/faces_4/tammo\n",
      "/Users/charles/Study/SEU/人工智能/Assignment#1/faces_4/phoebe\n",
      "/Users/charles/Study/SEU/人工智能/Assignment#1/faces_4/ch4f\n",
      "/Users/charles/Study/SEU/人工智能/Assignment#1/faces_4/boland\n",
      "/Users/charles/Study/SEU/人工智能/Assignment#1/faces_4/at33\n",
      "/Users/charles/Study/SEU/人工智能/Assignment#1/faces_4/bpm\n",
      "/Users/charles/Study/SEU/人工智能/Assignment#1/faces_4/cheyer\n",
      "/Users/charles/Study/SEU/人工智能/Assignment#1/faces_4/steffi\n",
      "/Users/charles/Study/SEU/人工智能/Assignment#1/faces_4/kk49\n",
      "/Users/charles/Study/SEU/人工智能/Assignment#1/faces_4/an2i\n",
      "/Users/charles/Study/SEU/人工智能/Assignment#1/faces_4/sz24\n",
      "/Users/charles/Study/SEU/人工智能/Assignment#1/faces_4/megak\n",
      "/Users/charles/Study/SEU/人工智能/Assignment#1/faces_4/night\n",
      "/Users/charles/Study/SEU/人工智能/Assignment#1/faces_4/choon\n",
      "/Users/charles/Study/SEU/人工智能/Assignment#1/faces_4/kawamura\n"
     ]
    }
   ],
   "source": [
    "load_data('/Users/charles/Study/SEU/人工智能/Assignment#1/faces_4')"
   ]
  },
  {
   "cell_type": "code",
   "execution_count": 18,
   "metadata": {},
   "outputs": [],
   "source": [
    "img_dir = '/Users/charles/Study/SEU/人工智能/Assignment#1/faces_4_expression'\n",
    "def load_data_2(data_dir):  # data_dir是数据集路径\n",
    "    count = 0\n",
    "    for guy in os.listdir(data_dir):  \n",
    "        person_dir = pjoin(data_dir, guy)  # 文件夹的路径\n",
    "        if os.path.isdir(person_dir):\n",
    "            for i in os.listdir(person_dir):\n",
    "                image_dir = pjoin(person_dir, i)  # lfw中每个文件夹中图片的路径\n",
    "                im = Image.open(image_dir)\n",
    "                \n",
    "                if 'angry' in image_dir:\n",
    "                    save_dir = pjoin(img_dir, 'angry')\n",
    "                    im.save(pjoin(save_dir, i)) \n",
    "                if 'happy' in image_dir:\n",
    "                    save_dir = pjoin(img_dir, 'happy')\n",
    "                    im.save(pjoin(save_dir, i))\n",
    "                if 'neutral' in image_dir:\n",
    "                    save_dir = pjoin(img_dir, 'neutral')\n",
    "                    im.save(pjoin(save_dir, i))\n",
    "                if 'sad' in image_dir:\n",
    "                    save_dir = pjoin(img_dir, 'sad')\n",
    "                    im.save(pjoin(save_dir, i))\n",
    "                \n",
    "            print(person_dir)"
   ]
  },
  {
   "cell_type": "code",
   "execution_count": 19,
   "metadata": {},
   "outputs": [
    {
     "name": "stdout",
     "output_type": "stream",
     "text": [
      "/Users/charles/Study/SEU/人工智能/Assignment#1/faces_4/glickman\n",
      "/Users/charles/Study/SEU/人工智能/Assignment#1/faces_4/karyadi\n",
      "/Users/charles/Study/SEU/人工智能/Assignment#1/faces_4/danieln\n",
      "/Users/charles/Study/SEU/人工智能/Assignment#1/faces_4/saavik\n",
      "/Users/charles/Study/SEU/人工智能/Assignment#1/faces_4/mitchell\n",
      "/Users/charles/Study/SEU/人工智能/Assignment#1/faces_4/tammo\n",
      "/Users/charles/Study/SEU/人工智能/Assignment#1/faces_4/phoebe\n",
      "/Users/charles/Study/SEU/人工智能/Assignment#1/faces_4/ch4f\n",
      "/Users/charles/Study/SEU/人工智能/Assignment#1/faces_4/boland\n",
      "/Users/charles/Study/SEU/人工智能/Assignment#1/faces_4/at33\n",
      "/Users/charles/Study/SEU/人工智能/Assignment#1/faces_4/bpm\n",
      "/Users/charles/Study/SEU/人工智能/Assignment#1/faces_4/cheyer\n",
      "/Users/charles/Study/SEU/人工智能/Assignment#1/faces_4/steffi\n",
      "/Users/charles/Study/SEU/人工智能/Assignment#1/faces_4/kk49\n",
      "/Users/charles/Study/SEU/人工智能/Assignment#1/faces_4/an2i\n",
      "/Users/charles/Study/SEU/人工智能/Assignment#1/faces_4/sz24\n",
      "/Users/charles/Study/SEU/人工智能/Assignment#1/faces_4/megak\n",
      "/Users/charles/Study/SEU/人工智能/Assignment#1/faces_4/night\n",
      "/Users/charles/Study/SEU/人工智能/Assignment#1/faces_4/choon\n",
      "/Users/charles/Study/SEU/人工智能/Assignment#1/faces_4/kawamura\n"
     ]
    }
   ],
   "source": [
    "load_data_2('/Users/charles/Study/SEU/人工智能/Assignment#1/faces_4')"
   ]
  },
  {
   "cell_type": "code",
   "execution_count": 20,
   "metadata": {},
   "outputs": [],
   "source": [
    "img_dir = '/Users/charles/Study/SEU/人工智能/Assignment#1/faces_4_wear'\n",
    "def load_data_3(data_dir):  # data_dir是数据集路径\n",
    "    count = 0\n",
    "    for guy in os.listdir(data_dir):  \n",
    "        person_dir = pjoin(data_dir, guy)  # 文件夹的路径\n",
    "        if os.path.isdir(person_dir):\n",
    "            for i in os.listdir(person_dir):\n",
    "                image_dir = pjoin(person_dir, i)  # lfw中每个文件夹中图片的路径\n",
    "                im = Image.open(image_dir)\n",
    "                \n",
    "                if 'open' in image_dir:\n",
    "                    save_dir = pjoin(img_dir, 'open')\n",
    "                    im.save(pjoin(save_dir, i)) \n",
    "                if 'sunglasses' in image_dir:\n",
    "                    save_dir = pjoin(img_dir, 'sunglasses')\n",
    "                    im.save(pjoin(save_dir, i))\n",
    "                \n",
    "            print(person_dir)"
   ]
  },
  {
   "cell_type": "code",
   "execution_count": 21,
   "metadata": {},
   "outputs": [
    {
     "name": "stdout",
     "output_type": "stream",
     "text": [
      "/Users/charles/Study/SEU/人工智能/Assignment#1/faces_4/glickman\n",
      "/Users/charles/Study/SEU/人工智能/Assignment#1/faces_4/karyadi\n",
      "/Users/charles/Study/SEU/人工智能/Assignment#1/faces_4/danieln\n",
      "/Users/charles/Study/SEU/人工智能/Assignment#1/faces_4/saavik\n",
      "/Users/charles/Study/SEU/人工智能/Assignment#1/faces_4/mitchell\n",
      "/Users/charles/Study/SEU/人工智能/Assignment#1/faces_4/tammo\n",
      "/Users/charles/Study/SEU/人工智能/Assignment#1/faces_4/phoebe\n",
      "/Users/charles/Study/SEU/人工智能/Assignment#1/faces_4/ch4f\n",
      "/Users/charles/Study/SEU/人工智能/Assignment#1/faces_4/boland\n",
      "/Users/charles/Study/SEU/人工智能/Assignment#1/faces_4/at33\n",
      "/Users/charles/Study/SEU/人工智能/Assignment#1/faces_4/bpm\n",
      "/Users/charles/Study/SEU/人工智能/Assignment#1/faces_4/cheyer\n",
      "/Users/charles/Study/SEU/人工智能/Assignment#1/faces_4/steffi\n",
      "/Users/charles/Study/SEU/人工智能/Assignment#1/faces_4/kk49\n",
      "/Users/charles/Study/SEU/人工智能/Assignment#1/faces_4/an2i\n",
      "/Users/charles/Study/SEU/人工智能/Assignment#1/faces_4/sz24\n",
      "/Users/charles/Study/SEU/人工智能/Assignment#1/faces_4/megak\n",
      "/Users/charles/Study/SEU/人工智能/Assignment#1/faces_4/night\n",
      "/Users/charles/Study/SEU/人工智能/Assignment#1/faces_4/choon\n",
      "/Users/charles/Study/SEU/人工智能/Assignment#1/faces_4/kawamura\n"
     ]
    }
   ],
   "source": [
    "load_data_3('/Users/charles/Study/SEU/人工智能/Assignment#1/faces_4')"
   ]
  },
  {
   "cell_type": "code",
   "execution_count": null,
   "metadata": {},
   "outputs": [],
   "source": []
  }
 ],
 "metadata": {
  "kernelspec": {
   "display_name": "Python 3",
   "language": "python",
   "name": "python3"
  },
  "language_info": {
   "codemirror_mode": {
    "name": "ipython",
    "version": 3
   },
   "file_extension": ".py",
   "mimetype": "text/x-python",
   "name": "python",
   "nbconvert_exporter": "python",
   "pygments_lexer": "ipython3",
   "version": "3.7.1"
  }
 },
 "nbformat": 4,
 "nbformat_minor": 2
}
