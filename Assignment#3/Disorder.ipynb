{
 "cells": [
  {
   "cell_type": "code",
   "execution_count": 1,
   "metadata": {},
   "outputs": [],
   "source": [
    "import numpy as np\n",
    "import sys\n",
    "import json\n",
    "import os\n",
    "import random\n",
    "import copy\n",
    "\n",
    "def read_data(dir_str):\n",
    "# 从文件中读取矩阵\n",
    "    A = []\n",
    "    temp=[]\n",
    "    with open(dir_str) as fdata:\n",
    "        while True:\n",
    "            line=fdata.readline()\n",
    "            if not line:\n",
    "                break\n",
    "            p = []\n",
    "            temp = line.split(' ')\n",
    "            for t in temp:\n",
    "                t = int(t)\n",
    "                p.append(t)\n",
    "            A.append(p)\n",
    "    return A\n",
    "\n",
    "def get_location(mat, element):\n",
    "# 获取element在mat中的位置,返回坐标i, j\n",
    "    row_num = mat.shape[0]\n",
    "    col_num = mat.shape[1]\n",
    "    \n",
    "    for i in range(row_num):\n",
    "        for j in range(col_num):\n",
    "            if element == mat[i][j]:\n",
    "                return i, j\n",
    "\n",
    "def get_actions(mat):\n",
    "# 获取mat中的0元素可以移动的下一个位置，返回可移动动作的列表\n",
    "    row_num = mat.shape[0]\n",
    "    col_num = mat.shape[1]\n",
    "    \n",
    "    (x, y) = get_location(mat, 0)\n",
    "    action = [(0, 1), (0, -1), (1, 0), (-1, 0)]  # action：朝4个方向分别移动1格\n",
    "    \n",
    "    # 0在边缘:可以减少可执行的action\n",
    "    if x == 0:\n",
    "        action.remove((-1, 0))\n",
    "    if y == 0:\n",
    "        action.remove((0, -1))\n",
    "    if x == row_num - 1:\n",
    "        action.remove((1, 0))\n",
    "    if y == col_num - 1:\n",
    "        action.remove((0, 1))\n",
    "        \n",
    "    # 0元素执行action，两个元素交换位置\n",
    "    idx = random.randint(0, len(action)-1)\n",
    "    (a, b) = np.array(action)[idx]\n",
    "    n = mat[x+a][y+b]\n",
    "    s = copy.deepcopy(mat)\n",
    "    s[x+a][y+b] = 0\n",
    "    s[x][y] = n\n",
    "    \n",
    "    return s"
   ]
  },
  {
   "cell_type": "code",
   "execution_count": 2,
   "metadata": {},
   "outputs": [
    {
     "name": "stdout",
     "output_type": "stream",
     "text": [
      "读取矩阵的行数\n",
      "求解24-数码问题\n",
      "读取目标矩阵B\n",
      "[[ 1  2  3  4  5]\n",
      " [ 6  7  8  9 10]\n",
      " [11 12 13 14 15]\n",
      " [16 17 18 19 20]\n",
      " [21 22 23 24  0]]\n"
     ]
    }
   ],
   "source": [
    "dir = \"config.json\"\n",
    "while not os.path.exists(dir):\n",
    "# 判断文件是否存在\n",
    "    print(\"file doesn't exists!\")\n",
    "    sys.exit()\n",
    "f = open(dir, encoding='utf-8')\n",
    "setting = json.load(f)\n",
    "f.close()\n",
    "\n",
    "print('读取矩阵的行数')\n",
    "num = int(setting['num'])\n",
    "print(\"求解%d-数码问题\"%(num ** 2 - 1))\n",
    "    \n",
    "print(\"读取目标矩阵B\")\n",
    "B = read_data(setting['arrayB'])\n",
    "matB = np.array(B)\n",
    "print(matB)"
   ]
  },
  {
   "cell_type": "code",
   "execution_count": 3,
   "metadata": {},
   "outputs": [
    {
     "name": "stdout",
     "output_type": "stream",
     "text": [
      "[[ 1  2 10 14  4]\n",
      " [ 6  0  7  3  5]\n",
      " [11 12 13  9 15]\n",
      " [22 21  8 18 19]\n",
      " [16 23 17 24 20]]\n"
     ]
    }
   ],
   "source": [
    "for i in range(100):\n",
    "    matB = get_actions(matB)\n",
    "\n",
    "print(matB) "
   ]
  },
  {
   "cell_type": "code",
   "execution_count": 4,
   "metadata": {},
   "outputs": [
    {
     "data": {
      "text/plain": [
       "90"
      ]
     },
     "execution_count": 4,
     "metadata": {},
     "output_type": "execute_result"
    }
   ],
   "source": [
    "resultfile = \"arrayA_\" + str(setting['num']) + \".txt\"\n",
    "h = open(resultfile, 'w', encoding='utf-8')\n",
    "h.write(str(matB))"
   ]
  },
  {
   "cell_type": "code",
   "execution_count": null,
   "metadata": {},
   "outputs": [],
   "source": []
  }
 ],
 "metadata": {
  "kernelspec": {
   "display_name": "Python 3",
   "language": "python",
   "name": "python3"
  },
  "language_info": {
   "codemirror_mode": {
    "name": "ipython",
    "version": 3
   },
   "file_extension": ".py",
   "mimetype": "text/x-python",
   "name": "python",
   "nbconvert_exporter": "python",
   "pygments_lexer": "ipython3",
   "version": "3.7.1"
  }
 },
 "nbformat": 4,
 "nbformat_minor": 2
}
